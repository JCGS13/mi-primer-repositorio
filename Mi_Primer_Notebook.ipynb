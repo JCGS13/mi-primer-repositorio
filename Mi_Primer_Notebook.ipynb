{
  "nbformat": 4,
  "nbformat_minor": 0,
  "metadata": {
    "colab": {
      "provenance": [],
      "authorship_tag": "ABX9TyNPC5/sDr0ZvS7UBQvcHfTF",
      "include_colab_link": true
    },
    "kernelspec": {
      "name": "python3",
      "display_name": "Python 3"
    },
    "language_info": {
      "name": "python"
    }
  },
  "cells": [
    {
      "cell_type": "markdown",
      "metadata": {
        "id": "view-in-github",
        "colab_type": "text"
      },
      "source": [
        "<a href=\"https://colab.research.google.com/github/JCGS13/mi-primer-repositorio/blob/main/Mi_Primer_Notebook.ipynb\" target=\"_parent\"><img src=\"https://colab.research.google.com/assets/colab-badge.svg\" alt=\"Open In Colab\"/></a>"
      ]
    },
    {
      "cell_type": "code",
      "execution_count": 4,
      "metadata": {
        "colab": {
          "base_uri": "https://localhost:8080/"
        },
        "id": "dHbQwytvi-PW",
        "outputId": "2f9cf5c4-0421-404f-9ce2-d5f7b3cdb67b"
      },
      "outputs": [
        {
          "output_type": "stream",
          "name": "stdout",
          "text": [
            "Hola Johendry\n",
            "8\n"
          ]
        }
      ],
      "source": [
        "name = \"Johendry\"\n",
        "print(\"Hola\", name)\n",
        "a = 3\n",
        "b = 5\n",
        "print(a+5)\n"
      ]
    }
  ]
}